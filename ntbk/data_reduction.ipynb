{
 "cells": [
  {
   "cell_type": "markdown",
   "id": "b06433f6-281f-4e5c-9ed8-5812382497f0",
   "metadata": {},
   "source": [
    "# Snapshot Data Reduction Scripts\n",
    "\n",
    "The two functions provided reduce snapshot info a readable format for the SKIRT radiative transfer code and make simple projections of snapshot data for by eye visualizations."
   ]
  },
  {
   "cell_type": "code",
   "execution_count": null,
   "id": "4e58bccb-348c-4a4b-a65e-405a81a9eb31",
   "metadata": {
    "execution": {
     "iopub.execute_input": "2024-07-24T18:44:55.499438Z",
     "iopub.status.busy": "2024-07-24T18:44:55.498594Z"
    }
   },
   "outputs": [],
   "source": [
    "%load_ext autoreload\n",
    "%autoreload 2\n",
    "\n",
    "import numpy as np\n",
    "import os\n",
    "from crc_scripts.utils.stellar_hsml_utils import get_particle_hsml\n",
    "from crc_scripts.figure import Figure,Projection\n",
    "from crc_scripts.io.gizmo import load_halo\n",
    "import crc_scripts.utils.data_calc_utils as calc\n",
    "from crc_scripts import config\n",
    "\n",
    "def create_SKIRT_particle_files(snap_dir, snap_num, output_dir, importDust=True, file_prefix=None):\n",
    "    '''\n",
    "    This function extracts and reduces the star and gas particle data from the specified simulation snapshot \n",
    "    into SKIRT input file. When extracting dust data it only uses the dust-to-metals (D/Z) ratio.\n",
    "\n",
    "    Parameters\n",
    "    ----------\n",
    "    snap_dir : string\n",
    "        Name of snapshot directory\n",
    "    snap_num : int\n",
    "        Snapshot number\n",
    "    output_dir : string\n",
    "        Name of directory where SKIRT outputs will be written to\n",
    "    importDust : boolean\n",
    "        Sets whether dust information will be extracted from simulation.\n",
    "    file_prefix : string, optional\n",
    "        Prefix for star.dat and gas.dat files.\n",
    "    '''\n",
    "    # This loads the galactic halo from the snapshot\n",
    "    halo = load_halo(snap_dir, snap_num, mode='AHF')\n",
    "    # This orientates the halo so that the galactic disk is face-on\n",
    "    print(\"Orientating halo\")\n",
    "    halo.set_orientation()\n",
    "\n",
    "    if not halo.sp.Flag_DustSpecies and importDust:\n",
    "        print(\"WARNING: importDust set to True but this snapshot does not have dust. Set importDust to False.\")\n",
    "\n",
    "    # Load data for star particles (ptype = 4)\n",
    "    p4 = halo.loadpart(4)\n",
    "    # x,y,x coordinates\n",
    "    coords = p4.get_property('position')\n",
    "    x, y, z = coords[:,0], coords[:,1], coords[:,2]\n",
    "    # Compute the star softening lengths. This takes some time.\n",
    "    print(\"Calculating star particle smoothing lengths...\")\n",
    "    h = get_particle_hsml(x, y, z)\n",
    "    # mass, metallicity, and age\n",
    "    m, Z, t = p4.get_property('M'), p4.get_property('Z'), 1e9*p4.get_property('age')\n",
    "\n",
    "    f = open(output_dir+\"/\"+file_prefix+\"star.dat\", 'w')\n",
    "    # Write header for star file\n",
    "    header =    '# star.dat \\n' + \\\n",
    "                '# Column 1: position x (pc)\\n' + \\\n",
    "                '# Column 2: position y (pc)\\n' + \\\n",
    "                '# Column 3: position z (pc)\\n' + \\\n",
    "                '# Column 4: smoothing length (pc)\\n' + \\\n",
    "                '# Column 5: mass (Msun)\\n' + \\\n",
    "                '# Column 6: metallicity (1)\\n' + \\\n",
    "                '# Column 7: age (yr)\\n'\n",
    "    f.write(header)\n",
    "    # Step through each star particle and write its data\n",
    "    for i in range(p4.npart):\n",
    "        line = \"%.2f %.2f %.2f %.2f %.3e %.3e %.3e\\n\" %(1e3*x[i],1e3*y[i],1e3*z[i],1e3*h[i],m[i],Z[i],t[i])\n",
    "        f.write(line)\n",
    "    f.close()\n",
    "\n",
    "    print(\"Star data written to star.dat...\")\n",
    "\n",
    "    # Load gas particle data (ptype = 0)\n",
    "    p0 = halo.loadpart(0)\n",
    "    # x,y,x coordinates\n",
    "    coords = p0.get_property('position')\n",
    "    x, y, z = coords[:,0], coords[:,1], coords[:,2]\n",
    "    # If the snapshots include dust amounts, give those to SKIRT and set D/Z to 1\n",
    "    # Else just assume a constant D/Z everywhere.\n",
    "    if importDust:\n",
    "        # smoothing length, dust mass, and temperature\n",
    "        h, m, T = p0.get_property('size'), p0.get_property('M_dust'), p0.get_property('temperature')\n",
    "    else:\n",
    "        # smoothing length, gas mass, metallicity, and temperature\n",
    "        h, m, Z, T = p0.get_property('size'), p0.get_property('M'), p0.get_property('M'), p0.get_property('temperature')\n",
    "\n",
    "    f = open(output_dir+\"/\"+file_prefix+\"gas.dat\", 'w')\n",
    "    # Make header for gas/dust. Needs to be in this specific order\n",
    "    header =   '# gas.dat \\n' + \\\n",
    "               '# Column 1: position x (pc)\\n' + \\\n",
    "               '# Column 2: position y (pc)\\n' + \\\n",
    "               '# Column 3: position z (pc)\\n' + \\\n",
    "               '# Column 4: smoothing length (pc)\\n'\n",
    "    if importDust:\n",
    "        header += '# Column 5: dust mass (Msun)\\n' + \\\n",
    "                  '# Column 6: temperature (K)\\n'\n",
    "    else:\n",
    "        header += '# Column 5: mass (Msun)\\n' + \\\n",
    "                  '# Column 6: metallicity (1)\\n' + \\\n",
    "                  '# Column 7: temperature (K)\\n'\n",
    "    f.write(header)\n",
    "\n",
    "    if importDust:\n",
    "        for i in range(p0.npart):\n",
    "            line = \"%.2f %.2f %.2f %.3e %.3e %.3e\\n\" %(1e3*x[i],1e3*y[i],1e3*z[i],1e3*h[i],m[i],T[i])\n",
    "            f.write(line)\n",
    "    else:\n",
    "        for i in range(p0.npart):\n",
    "            line = \"%.2f %.2f %.2f %.3e %.3e %.3e %.3e\\n\" %(1e3*x[i],1e3*y[i],1e3*z[i],1e3*h[i],m[i],Z[i],T[i])\n",
    "            f.write(line)\n",
    "    f.close()\n",
    "\n",
    "    print(\"Gas/Dust data written to gas.dat...\")\n",
    "\n",
    "def create_galaxy_projection(snap_dir, snap_num, foutname='snap_projection.png', pixel_res=0.05, proj_L=15, properties=['sigma_gas'], prop_limits=[], prop_cmaps=[],\n",
    "                            log_cmaps=[] ,labels=[], sub_proj=False, sub_L=8):\n",
    "    '''\n",
    "    This function takes the specified snapshot and makes a projection of the specified properties. The property can either be a surface density (i.e sigma_gas)\n",
    "    or the median a physical property (i.e. temperature). The default projection is face-on with the galaxy (x-y axis), but you can add a subb-projection \n",
    "    along another direction (x-z,y-z).\n",
    "\n",
    "    Parameters\n",
    "    ----------\n",
    "    snap_dir : string\n",
    "        Name of snapshot directory\n",
    "    snap_num : int\n",
    "        Snapshot number\n",
    "    foutname: string\n",
    "        Name of file for saved image.\n",
    "    pixel_res : double\n",
    "        Size of each projection pixel in kpc. If this is too small you will start to bin individual particles.\n",
    "    properties : list\n",
    "        List of properties you want individual projections for. Check the crc_scripts.config.PROP_INFO dictionary for supported properties.\n",
    "    prop_limits : list\n",
    "        List of lower and upper limits for each property.\n",
    "    prop_cmaps : list\n",
    "        List of colormaps for each property.\n",
    "    log_cmaps : list\n",
    "        List setting if colormap should be in log space for each property.\n",
    "    label : list\n",
    "        List of labels which will appear in the corner for each projection.\n",
    "    proj_L : double\n",
    "        Sets the size of each projection in kpc (for reference the Milky Way has a disk size of ~10 kpc).\n",
    "    sub_proj : bool\n",
    "        Sets whether you want another subprojection underneath the main projection with a projection angle that is  offset by 90 degrees.\n",
    "    sub_L : double\n",
    "        Sets the size of each subprojection in kpc (~5 kpc is good for a disk galaxy).\n",
    "    \n",
    "    '''\n",
    "\n",
    "    halo = load_halo(snap_dir, snap_num, mode='AHF')\n",
    "    # Orientate the galaxy so it is face-on\n",
    "    halo.set_orientation()\n",
    "    # Initialize projection figure\n",
    "    L = proj_L\n",
    "    height_ratios = [L/sub_L,1]\n",
    "    new_proj = Projection(len(properties), sub_proj=sub_proj, has_colorbars=True, height_ratios=height_ratios)\n",
    "    # Create projections for each property and plot the projection\n",
    "    for j,prop in enumerate(properties):\n",
    "        new_proj.set_axis(j, prop, L, axes_visible=False)\n",
    "        # Create x-y projection using a 2D histogram\n",
    "        main_pixel_stats, main_xedges, main_yedges, main_extent = calc.calc_projected_prop(prop, halo, [L,L,L], pixel_res=pixel_res, proj='xy')\n",
    "        if sub_proj:\n",
    "            # Create x-z subprojection using a 2D histogram\n",
    "            sub_pixel_stats, sub_xedges, sub_yedges, sub_extent = calc.calc_projected_prop(prop, halo, [L,sub_L,L], pixel_res=pixel_res, proj='xz')\n",
    "        else:\n",
    "            sub_pixel_stats=None; sub_extent=None\n",
    "        # x-z projection\n",
    "        # Create the projection\n",
    "        if labels is not None:\n",
    "            label = labels[j]\n",
    "        else:\n",
    "            label=None\n",
    "        new_proj.plot_projection(j, main_pixel_stats, main_extent, sub_proj_data=sub_pixel_stats, sub_extent=sub_extent,\n",
    "                                 cmap= prop_cmaps[j], v_limits = prop_limits[j],v_log=log_cmaps[j], label=label)\n",
    "\n",
    "    new_proj.save(foutname)"
   ]
  },
  {
   "cell_type": "markdown",
   "id": "a15e6844-a446-4fba-be7b-cdff28563c80",
   "metadata": {},
   "source": [
    "## Reduce snapshot data"
   ]
  },
  {
   "cell_type": "code",
   "execution_count": null,
   "id": "6c6bac5d-2170-43b3-8b33-d03d1ee5efd2",
   "metadata": {
    "execution": {
     "execution_failed": "2024-07-24T18:44:36.200Z",
     "iopub.execute_input": "2024-07-24T18:44:29.596676Z",
     "iopub.status.busy": "2024-07-24T18:44:29.595457Z"
    },
    "scrolled": true
   },
   "outputs": [
    {
     "name": "stdout",
     "output_type": "stream",
     "text": [
      "/N/scratch/cchoban/m12i_res7100/output/snapdir_600/snapshot_600.0.hdf5\n",
      "Looking for snapshot's corresponding AHF file\n",
      "AHF file found /N/scratch/cchoban/m12i_res7100/halo/ahf/output/snapshot_600.z0.000.AHF_halos\n",
      "Orientating halo\n",
      "assigning center of galaxy:\n"
     ]
    }
   ],
   "source": [
    "# Path to simulation snapshots\n",
    "snap_dir = '/N/scratch/cchoban/m12i_res7100/output'\n",
    "# Number of snapshot you want to open\n",
    "snap_num = 600\n",
    "# Path you want to save reduced data to\n",
    "output_dir = './'\n",
    "# Set whether you want to import the dust mass from the simulation directly or \n",
    "# only import the gas mass and metallicity to be used with an assumed dust amount\n",
    "importDust = False\n",
    "\n",
    "file_prefix = 'm12i_'\n",
    "\n",
    "create_SKIRT_particle_files(snap_dir, snap_num, output_dir, importDust=importDust,file_prefix=file_prefix)"
   ]
  },
  {
   "cell_type": "code",
   "execution_count": 2,
   "id": "d2fd5bc8-8b34-4a8b-9d69-05a64f25147d",
   "metadata": {
    "execution": {
     "iopub.execute_input": "2024-07-16T15:32:18.832169Z",
     "iopub.status.busy": "2024-07-16T15:32:18.831519Z",
     "iopub.status.idle": "2024-07-16T15:38:42.303961Z",
     "shell.execute_reply": "2024-07-16T15:38:42.302901Z",
     "shell.execute_reply.started": "2024-07-16T15:32:18.832124Z"
    },
    "scrolled": true
   },
   "outputs": [
    {
     "name": "stdout",
     "output_type": "stream",
     "text": [
      "Looking for snapshot's corresponding AHF file\n",
      "Orientating halo\n",
      "assigning center of galaxy:\n",
      "  center position [kpc] = 41821.601, 44186.981, 46265.911\n",
      "  center velocity [km/s] = -51.9, 75.5, 94.7\n",
      "assigning principal axes:\n",
      "  using ptype 4 particles at radius < 10 kpc\n",
      "  using ptype 4 particles with age = [0, 1] Gyr\n",
      "  axis ratios:  min/maj = 0.127, min/med = 0.132, med/maj = 0.963\n",
      "Calculating star particle smoothing lengths...\n",
      "Star data written to star.dat...\n",
      "Gas/Dust data written to gas.dat...\n"
     ]
    }
   ],
   "source": [
    "# Path to simulation snapshots\n",
    "snap_dir = '/N/scratch/cchoban/HiZ_dust/z5m12b/output'\n",
    "# Number of snapshot you want to open\n",
    "snap_num = 600\n",
    "# Path you want to save reduced data to\n",
    "output_dir = './'\n",
    "# Set whether you want to import the dust mass from the simulation directly or \n",
    "# only import the gas mass and metallicity to be used with an assumed dust amount\n",
    "importDust = True\n",
    "\n",
    "file_prefix = 'z5m12b_'\n",
    "\n",
    "create_SKIRT_particle_files(snap_dir, snap_num, output_dir, importDust=importDust,file_prefix=file_prefix)"
   ]
  },
  {
   "cell_type": "markdown",
   "id": "e8d4ecc6-eccb-498e-b943-cd4fcfb79b75",
   "metadata": {},
   "source": [
    "## Create projection visualization"
   ]
  },
  {
   "cell_type": "code",
   "execution_count": 3,
   "id": "94a32a11-5b7b-4787-b84a-8b9f76bfce59",
   "metadata": {
    "execution": {
     "iopub.execute_input": "2024-07-16T15:41:26.320225Z",
     "iopub.status.busy": "2024-07-16T15:41:26.318933Z",
     "iopub.status.idle": "2024-07-16T15:41:58.384073Z",
     "shell.execute_reply": "2024-07-16T15:41:58.370388Z",
     "shell.execute_reply.started": "2024-07-16T15:41:26.320168Z"
    },
    "scrolled": true
   },
   "outputs": [
    {
     "name": "stdout",
     "output_type": "stream",
     "text": [
      "Looking for snapshot's corresponding AHF file\n",
      "assigning center of galaxy:\n",
      "  center position [kpc] = 41821.601, 44186.981, 46265.911\n",
      "  center velocity [km/s] = -51.9, 75.5, 94.7\n",
      "assigning principal axes:\n",
      "  using ptype 4 particles at radius < 10 kpc\n",
      "  using ptype 4 particles with age = [0, 1] Gyr\n",
      "  axis ratios:  min/maj = 0.127, min/med = 0.132, med/maj = 0.963\n"
     ]
    },
    {
     "ename": "TypeError",
     "evalue": "Projection.__init__() got an unexpected keyword argument 'sub_proj'",
     "output_type": "error",
     "traceback": [
      "\u001b[0;31m---------------------------------------------------------------------------\u001b[0m",
      "\u001b[0;31mTypeError\u001b[0m                                 Traceback (most recent call last)",
      "Cell \u001b[0;32mIn[3], line 22\u001b[0m\n\u001b[1;32m     19\u001b[0m \u001b[38;5;66;03m# size of secondary projection\u001b[39;00m\n\u001b[1;32m     20\u001b[0m sub_L \u001b[38;5;241m=\u001b[39m \u001b[38;5;241m8\u001b[39m \u001b[38;5;66;03m# kpc\u001b[39;00m\n\u001b[0;32m---> 22\u001b[0m \u001b[43mcreate_galaxy_projection\u001b[49m\u001b[43m(\u001b[49m\u001b[43msnap_dir\u001b[49m\u001b[43m,\u001b[49m\u001b[43m \u001b[49m\u001b[43msnap_num\u001b[49m\u001b[43m,\u001b[49m\u001b[43m \u001b[49m\u001b[43mproj_L\u001b[49m\u001b[38;5;241;43m=\u001b[39;49m\u001b[43mproj_L\u001b[49m\u001b[43m,\u001b[49m\u001b[43m \u001b[49m\u001b[43mpixel_res\u001b[49m\u001b[38;5;241;43m=\u001b[39;49m\u001b[43mpixel_res\u001b[49m\u001b[43m,\u001b[49m\u001b[43m \u001b[49m\u001b[43mproperties\u001b[49m\u001b[38;5;241;43m=\u001b[39;49m\u001b[43mproperties\u001b[49m\u001b[43m,\u001b[49m\u001b[43m \u001b[49m\u001b[43mprop_limits\u001b[49m\u001b[38;5;241;43m=\u001b[39;49m\u001b[43mprop_limits\u001b[49m\u001b[43m,\u001b[49m\u001b[43m \u001b[49m\u001b[43mprop_cmaps\u001b[49m\u001b[38;5;241;43m=\u001b[39;49m\u001b[43mprop_cmaps\u001b[49m\u001b[43m,\u001b[49m\n\u001b[1;32m     23\u001b[0m \u001b[43m                            \u001b[49m\u001b[43mlog_cmaps\u001b[49m\u001b[38;5;241;43m=\u001b[39;49m\u001b[43mlog_cmaps\u001b[49m\u001b[43m \u001b[49m\u001b[43m,\u001b[49m\u001b[43mlabels\u001b[49m\u001b[38;5;241;43m=\u001b[39;49m\u001b[43mlabels\u001b[49m\u001b[43m,\u001b[49m\u001b[43m \u001b[49m\u001b[43msub_proj\u001b[49m\u001b[38;5;241;43m=\u001b[39;49m\u001b[43msub_proj\u001b[49m\u001b[43m,\u001b[49m\u001b[43m \u001b[49m\u001b[43msub_L\u001b[49m\u001b[38;5;241;43m=\u001b[39;49m\u001b[43msub_L\u001b[49m\u001b[43m)\u001b[49m\n",
      "Cell \u001b[0;32mIn[1], line 151\u001b[0m, in \u001b[0;36mcreate_galaxy_projection\u001b[0;34m(snap_dir, snap_num, foutname, pixel_res, proj_L, properties, prop_limits, prop_cmaps, log_cmaps, labels, sub_proj, sub_L)\u001b[0m\n\u001b[1;32m    149\u001b[0m L \u001b[38;5;241m=\u001b[39m proj_L\n\u001b[1;32m    150\u001b[0m height_ratios \u001b[38;5;241m=\u001b[39m [L\u001b[38;5;241m/\u001b[39msub_L,\u001b[38;5;241m1\u001b[39m]\n\u001b[0;32m--> 151\u001b[0m new_proj \u001b[38;5;241m=\u001b[39m \u001b[43mProjection\u001b[49m\u001b[43m(\u001b[49m\u001b[38;5;28;43mlen\u001b[39;49m\u001b[43m(\u001b[49m\u001b[43mproperties\u001b[49m\u001b[43m)\u001b[49m\u001b[43m,\u001b[49m\u001b[43m \u001b[49m\u001b[43msub_proj\u001b[49m\u001b[38;5;241;43m=\u001b[39;49m\u001b[43msub_proj\u001b[49m\u001b[43m,\u001b[49m\u001b[43m \u001b[49m\u001b[43mhas_colorbars\u001b[49m\u001b[38;5;241;43m=\u001b[39;49m\u001b[38;5;28;43;01mTrue\u001b[39;49;00m\u001b[43m,\u001b[49m\u001b[43m \u001b[49m\u001b[43mheight_ratios\u001b[49m\u001b[38;5;241;43m=\u001b[39;49m\u001b[43mheight_ratios\u001b[49m\u001b[43m)\u001b[49m\n\u001b[1;32m    152\u001b[0m \u001b[38;5;66;03m# Create projections for each property and plot the projection\u001b[39;00m\n\u001b[1;32m    153\u001b[0m \u001b[38;5;28;01mfor\u001b[39;00m j,prop \u001b[38;5;129;01min\u001b[39;00m \u001b[38;5;28menumerate\u001b[39m(properties):\n",
      "\u001b[0;31mTypeError\u001b[0m: Projection.__init__() got an unexpected keyword argument 'sub_proj'"
     ]
    }
   ],
   "source": [
    "# Physical size of projection \n",
    "proj_L = 15 # kpc\n",
    "# Size resolution (kpc) for each \"pixel\" in projection\n",
    "pixel_res=0.05\n",
    "# Properties to plot projections of. Can be surface densities (total mass in pixel divied by pixel size) or properties like T (median value of all particles in pixel)\n",
    "properties = ['sigma_gas','sigma_star','sigma_dust']\n",
    "# Limits for projection of each property. Defaults if not set\n",
    "prop_limits = [[8E-1,2E3],[2E1,2E4],[8E-3,2E1]]\n",
    "# Colormaps for each projection\n",
    "prop_cmaps = ['inferno','viridis','cividis']\n",
    "# Do you want log colormaps for each property (default = True)\n",
    "log_cmaps = [True]*len(properties)\n",
    "# Labels for each projection is so desired\n",
    "labels = ['gas','stars','dust']\n",
    "# Physical size of projection \n",
    "proj_L = 15 # kpc\n",
    "# Do you want a secondary projection from an orthogonal axis (i.e. edge-on)\n",
    "sub_proj = True\n",
    "# size of secondary projection\n",
    "sub_L = 8 # kpc\n",
    "\n",
    "create_galaxy_projection(snap_dir, snap_num, proj_L=proj_L, pixel_res=pixel_res, properties=properties, prop_limits=prop_limits, prop_cmaps=prop_cmaps,\n",
    "                            log_cmaps=log_cmaps ,labels=labels, sub_proj=sub_proj, sub_L=sub_L)"
   ]
  },
  {
   "cell_type": "code",
   "execution_count": null,
   "id": "52a11936-41a0-4d3b-a026-805a1c854a58",
   "metadata": {},
   "outputs": [],
   "source": []
  }
 ],
 "metadata": {
  "kernelspec": {
   "display_name": "Python 3 (ipykernel)",
   "language": "python",
   "name": "python3"
  },
  "language_info": {
   "codemirror_mode": {
    "name": "ipython",
    "version": 3
   },
   "file_extension": ".py",
   "mimetype": "text/x-python",
   "name": "python",
   "nbconvert_exporter": "python",
   "pygments_lexer": "ipython3",
   "version": "3.11.8"
  }
 },
 "nbformat": 4,
 "nbformat_minor": 5
}
